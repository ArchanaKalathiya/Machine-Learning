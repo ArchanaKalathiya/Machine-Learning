{
 "cells": [
  {
   "cell_type": "code",
   "execution_count": 5,
   "metadata": {
    "id": "An-fRHASiKgN"
   },
   "outputs": [],
   "source": [
    "import pandas as pd\n",
    "import numpy as np\n",
    "from sklearn.preprocessing import OneHotEncoder\n",
    "from keras.models import Model\n",
    "from keras.layers import Input, LSTM, Dense\n",
    "from keras.layers import RepeatVector\n",
    "from sklearn.metrics import accuracy_score,f1_score, precision_score, recall_score, confusion_matrix"
   ]
  },
  {
   "cell_type": "code",
   "execution_count": 6,
   "metadata": {
    "id": "K6q41jKyiMsx"
   },
   "outputs": [
    {
     "data": {
      "text/html": [
       "<div>\n",
       "<style scoped>\n",
       "    .dataframe tbody tr th:only-of-type {\n",
       "        vertical-align: middle;\n",
       "    }\n",
       "\n",
       "    .dataframe tbody tr th {\n",
       "        vertical-align: top;\n",
       "    }\n",
       "\n",
       "    .dataframe thead th {\n",
       "        text-align: right;\n",
       "    }\n",
       "</style>\n",
       "<table border=\"1\" class=\"dataframe\">\n",
       "  <thead>\n",
       "    <tr style=\"text-align: right;\">\n",
       "      <th></th>\n",
       "      <th>Sr. No.</th>\n",
       "      <th>Code</th>\n",
       "      <th>Algorithm</th>\n",
       "    </tr>\n",
       "  </thead>\n",
       "  <tbody>\n",
       "    <tr>\n",
       "      <th>0</th>\n",
       "      <td>1</td>\n",
       "      <td>num1 = 15 num2 = 12 sum = num1 + num2 print(\"S...</td>\n",
       "      <td>Step 1: Read A , B Step 2: Let Sum= A+B Step 3...</td>\n",
       "    </tr>\n",
       "    <tr>\n",
       "      <th>1</th>\n",
       "      <td>2</td>\n",
       "      <td>num1 = 15 num2 = 12 prod = num1 * num2 print(\"...</td>\n",
       "      <td>Step 1: Read A , B Step 2: Let Product=A*B Ste...</td>\n",
       "    </tr>\n",
       "    <tr>\n",
       "      <th>2</th>\n",
       "      <td>3</td>\n",
       "      <td>x = 5 y = 10 temp = x x = y y = temp print('Th...</td>\n",
       "      <td>[Initialize the variables] A = 2 B = 3 2. [Pef...</td>\n",
       "    </tr>\n",
       "    <tr>\n",
       "      <th>3</th>\n",
       "      <td>4</td>\n",
       "      <td>x = 5 y = 10 x, y = y, x print(\"x =\", x) print...</td>\n",
       "      <td>1. [Initialize the variables] A = 2 B = 3 2. x...</td>\n",
       "    </tr>\n",
       "    <tr>\n",
       "      <th>4</th>\n",
       "      <td>5</td>\n",
       "      <td>a=[] n=int(input(\"Enter number of elements:\"))...</td>\n",
       "      <td>1. Take in the number of elements and store it...</td>\n",
       "    </tr>\n",
       "    <tr>\n",
       "      <th>...</th>\n",
       "      <td>...</td>\n",
       "      <td>...</td>\n",
       "      <td>...</td>\n",
       "    </tr>\n",
       "    <tr>\n",
       "      <th>130</th>\n",
       "      <td>131</td>\n",
       "      <td>exp = \"45+98-10\"\\r\\nstack = []\\r\\ni = 0\\r\\nwhi...</td>\n",
       "      <td>1. Take input of the string containing the exp...</td>\n",
       "    </tr>\n",
       "    <tr>\n",
       "      <th>131</th>\n",
       "      <td>132</td>\n",
       "      <td>import re\\r\\n\\r\\ndef evaluate_expression(expre...</td>\n",
       "      <td>1. Import the re module for regular expression...</td>\n",
       "    </tr>\n",
       "    <tr>\n",
       "      <th>132</th>\n",
       "      <td>133</td>\n",
       "      <td># Class to make a Node\\r\\nclass Node:\\r\\n     ...</td>\n",
       "      <td>1. If stack is empty, insert x into the stack ...</td>\n",
       "    </tr>\n",
       "    <tr>\n",
       "      <th>133</th>\n",
       "      <td>134</td>\n",
       "      <td># Python3 program to implement Queue using\\r\\n...</td>\n",
       "      <td>1. While stack1 is not empty, push everything ...</td>\n",
       "    </tr>\n",
       "    <tr>\n",
       "      <th>134</th>\n",
       "      <td>135</td>\n",
       "      <td># Python3 program to implement Queue using\\r\\n...</td>\n",
       "      <td>enQueue(q,  x)\\r\\n  1) Push x to stack1 (assum...</td>\n",
       "    </tr>\n",
       "  </tbody>\n",
       "</table>\n",
       "<p>135 rows × 3 columns</p>\n",
       "</div>"
      ],
      "text/plain": [
       "     Sr. No.                                               Code  \\\n",
       "0          1  num1 = 15 num2 = 12 sum = num1 + num2 print(\"S...   \n",
       "1          2  num1 = 15 num2 = 12 prod = num1 * num2 print(\"...   \n",
       "2          3  x = 5 y = 10 temp = x x = y y = temp print('Th...   \n",
       "3          4  x = 5 y = 10 x, y = y, x print(\"x =\", x) print...   \n",
       "4          5  a=[] n=int(input(\"Enter number of elements:\"))...   \n",
       "..       ...                                                ...   \n",
       "130      131  exp = \"45+98-10\"\\r\\nstack = []\\r\\ni = 0\\r\\nwhi...   \n",
       "131      132  import re\\r\\n\\r\\ndef evaluate_expression(expre...   \n",
       "132      133  # Class to make a Node\\r\\nclass Node:\\r\\n     ...   \n",
       "133      134  # Python3 program to implement Queue using\\r\\n...   \n",
       "134      135  # Python3 program to implement Queue using\\r\\n...   \n",
       "\n",
       "                                             Algorithm  \n",
       "0    Step 1: Read A , B Step 2: Let Sum= A+B Step 3...  \n",
       "1    Step 1: Read A , B Step 2: Let Product=A*B Ste...  \n",
       "2    [Initialize the variables] A = 2 B = 3 2. [Pef...  \n",
       "3    1. [Initialize the variables] A = 2 B = 3 2. x...  \n",
       "4    1. Take in the number of elements and store it...  \n",
       "..                                                 ...  \n",
       "130  1. Take input of the string containing the exp...  \n",
       "131  1. Import the re module for regular expression...  \n",
       "132  1. If stack is empty, insert x into the stack ...  \n",
       "133  1. While stack1 is not empty, push everything ...  \n",
       "134  enQueue(q,  x)\\r\\n  1) Push x to stack1 (assum...  \n",
       "\n",
       "[135 rows x 3 columns]"
      ]
     },
     "execution_count": 6,
     "metadata": {},
     "output_type": "execute_result"
    }
   ],
   "source": [
    "# Load the dataset from CSV file\n",
    "data = pd.read_csv('dataset.csv')\n",
    "data.head(135)"
   ]
  },
  {
   "cell_type": "code",
   "execution_count": 7,
   "metadata": {
    "id": "AmLrDqEqjDkl"
   },
   "outputs": [],
   "source": [
    "# Convert the python code strings into a numerical representation using one-hot encoding\n",
    "enc = OneHotEncoder()\n",
    "enc.fit(data)\n",
    "df = enc.transform(data)"
   ]
  },
  {
   "cell_type": "code",
   "execution_count": 8,
   "metadata": {
    "id": "wCRk7K76jEnI"
   },
   "outputs": [],
   "source": [
    "# Split the dataset into training and testing sets\n",
    "train_size = int(df.shape[0] * 0.8)\n",
    "X = df[:, :-1]\n",
    "y = df[:, -1].toarray().ravel()\n",
    "X_train, X_test = X[:train_size], X[train_size:]\n",
    "y_train, y_test = y[:train_size], y[train_size:]\n",
    "X_train = X_train.toarray()\n",
    "X_test = X_test.toarray()\n",
    "X_train = np.reshape(X_train, (X_train.shape[0], X_train.shape[1], 1))\n",
    "X_test = np.reshape(X_test, (X_test.shape[0], X_test.shape[1], 1))\n"
   ]
  },
  {
   "cell_type": "code",
   "execution_count": 9,
   "metadata": {
    "id": "xIwVhaMpjSZZ"
   },
   "outputs": [],
   "source": [
    "# Define the Encoder-Decoder LSTM model\n",
    "inputs = Input(shape=(X_train.shape[1], X_train.shape[2]))\n",
    "encoder = LSTM(128)(inputs)\n",
    "decoder = RepeatVector(X_train.shape[1])(encoder)\n",
    "decoder = LSTM(128, return_sequences=True)(decoder)\n",
    "outputs = Dense(X_train.shape[2], activation='softmax')(decoder)\n",
    "model = Model(inputs=inputs, outputs=outputs)\n",
    "model.compile(optimizer='adam', loss='mean_squared_error')"
   ]
  },
  {
   "cell_type": "code",
   "execution_count": 10,
   "metadata": {
    "colab": {
     "base_uri": "https://localhost:8080/"
    },
    "id": "TpSPu3H4knx9",
    "outputId": "66685cc0-3d56-4649-9936-d18462fe4654"
   },
   "outputs": [
    {
     "name": "stdout",
     "output_type": "stream",
     "text": [
      "Epoch 1/90\n",
      "4/4 [==============================] - 15s 2s/step - loss: 0.9923 - val_loss: 0.9923\n",
      "Epoch 2/90\n",
      "4/4 [==============================] - 5s 1s/step - loss: 0.9923 - val_loss: 0.9923\n",
      "Epoch 3/90\n",
      "4/4 [==============================] - 6s 1s/step - loss: 0.9923 - val_loss: 0.9923\n",
      "Epoch 4/90\n",
      "4/4 [==============================] - 6s 2s/step - loss: 0.9923 - val_loss: 0.9923\n",
      "Epoch 5/90\n",
      "4/4 [==============================] - 6s 2s/step - loss: 0.9923 - val_loss: 0.9923\n",
      "Epoch 6/90\n",
      "4/4 [==============================] - 6s 2s/step - loss: 0.9923 - val_loss: 0.9923\n",
      "Epoch 7/90\n",
      "4/4 [==============================] - 6s 1s/step - loss: 0.9923 - val_loss: 0.9923\n",
      "Epoch 8/90\n",
      "4/4 [==============================] - 5s 1s/step - loss: 0.9923 - val_loss: 0.9923\n",
      "Epoch 9/90\n",
      "4/4 [==============================] - 5s 1s/step - loss: 0.9923 - val_loss: 0.9923\n",
      "Epoch 10/90\n",
      "4/4 [==============================] - 5s 1s/step - loss: 0.9923 - val_loss: 0.9923\n",
      "Epoch 11/90\n",
      "4/4 [==============================] - 5s 1s/step - loss: 0.9923 - val_loss: 0.9923\n",
      "Epoch 12/90\n",
      "4/4 [==============================] - 5s 1s/step - loss: 0.9923 - val_loss: 0.9923\n",
      "Epoch 13/90\n",
      "4/4 [==============================] - 5s 1s/step - loss: 0.9923 - val_loss: 0.9923\n",
      "Epoch 14/90\n",
      "4/4 [==============================] - 5s 1s/step - loss: 0.9923 - val_loss: 0.9923\n",
      "Epoch 15/90\n",
      "4/4 [==============================] - 5s 1s/step - loss: 0.9923 - val_loss: 0.9923\n",
      "Epoch 16/90\n",
      "4/4 [==============================] - 5s 1s/step - loss: 0.9923 - val_loss: 0.9923\n",
      "Epoch 17/90\n",
      "4/4 [==============================] - 5s 1s/step - loss: 0.9923 - val_loss: 0.9923\n",
      "Epoch 18/90\n",
      "4/4 [==============================] - 5s 1s/step - loss: 0.9923 - val_loss: 0.9923\n",
      "Epoch 19/90\n",
      "4/4 [==============================] - 5s 1s/step - loss: 0.9923 - val_loss: 0.9923\n",
      "Epoch 20/90\n",
      "4/4 [==============================] - 5s 1s/step - loss: 0.9923 - val_loss: 0.9923\n",
      "Epoch 21/90\n",
      "4/4 [==============================] - 5s 1s/step - loss: 0.9923 - val_loss: 0.9923\n",
      "Epoch 22/90\n",
      "4/4 [==============================] - 5s 1s/step - loss: 0.9923 - val_loss: 0.9923\n",
      "Epoch 23/90\n",
      "4/4 [==============================] - 5s 1s/step - loss: 0.9923 - val_loss: 0.9923\n",
      "Epoch 24/90\n",
      "4/4 [==============================] - 5s 1s/step - loss: 0.9923 - val_loss: 0.9923\n",
      "Epoch 25/90\n",
      "4/4 [==============================] - 5s 1s/step - loss: 0.9923 - val_loss: 0.9923\n",
      "Epoch 26/90\n",
      "4/4 [==============================] - 5s 1s/step - loss: 0.9923 - val_loss: 0.9923\n",
      "Epoch 27/90\n",
      "4/4 [==============================] - 5s 1s/step - loss: 0.9923 - val_loss: 0.9923\n",
      "Epoch 28/90\n",
      "4/4 [==============================] - 5s 1s/step - loss: 0.9923 - val_loss: 0.9923\n",
      "Epoch 29/90\n",
      "4/4 [==============================] - 5s 1s/step - loss: 0.9923 - val_loss: 0.9923\n",
      "Epoch 30/90\n",
      "4/4 [==============================] - 5s 1s/step - loss: 0.9923 - val_loss: 0.9923\n",
      "Epoch 31/90\n",
      "4/4 [==============================] - 5s 1s/step - loss: 0.9923 - val_loss: 0.9923\n",
      "Epoch 32/90\n",
      "4/4 [==============================] - 5s 1s/step - loss: 0.9923 - val_loss: 0.9923\n",
      "Epoch 33/90\n",
      "4/4 [==============================] - 5s 1s/step - loss: 0.9923 - val_loss: 0.9923\n",
      "Epoch 34/90\n",
      "4/4 [==============================] - 5s 1s/step - loss: 0.9923 - val_loss: 0.9923\n",
      "Epoch 35/90\n",
      "4/4 [==============================] - 5s 1s/step - loss: 0.9923 - val_loss: 0.9923\n",
      "Epoch 36/90\n",
      "4/4 [==============================] - 5s 1s/step - loss: 0.9923 - val_loss: 0.9923\n",
      "Epoch 37/90\n",
      "4/4 [==============================] - 5s 1s/step - loss: 0.9923 - val_loss: 0.9923\n",
      "Epoch 38/90\n",
      "4/4 [==============================] - 5s 1s/step - loss: 0.9923 - val_loss: 0.9923\n",
      "Epoch 39/90\n",
      "4/4 [==============================] - 5s 1s/step - loss: 0.9923 - val_loss: 0.9923\n",
      "Epoch 40/90\n",
      "4/4 [==============================] - 5s 1s/step - loss: 0.9923 - val_loss: 0.9923\n",
      "Epoch 41/90\n",
      "4/4 [==============================] - 5s 1s/step - loss: 0.9923 - val_loss: 0.9923\n",
      "Epoch 42/90\n",
      "4/4 [==============================] - 5s 1s/step - loss: 0.9923 - val_loss: 0.9923\n",
      "Epoch 43/90\n",
      "4/4 [==============================] - 3s 753ms/step - loss: 0.9923 - val_loss: 0.9923\n",
      "Epoch 44/90\n",
      "4/4 [==============================] - 3s 732ms/step - loss: 0.9923 - val_loss: 0.9923\n",
      "Epoch 45/90\n",
      "4/4 [==============================] - 3s 739ms/step - loss: 0.9923 - val_loss: 0.9923\n",
      "Epoch 46/90\n",
      "4/4 [==============================] - 3s 722ms/step - loss: 0.9923 - val_loss: 0.9923\n",
      "Epoch 47/90\n",
      "4/4 [==============================] - 3s 740ms/step - loss: 0.9923 - val_loss: 0.9923\n",
      "Epoch 48/90\n",
      "4/4 [==============================] - 3s 731ms/step - loss: 0.9923 - val_loss: 0.9923\n",
      "Epoch 49/90\n",
      "4/4 [==============================] - 3s 750ms/step - loss: 0.9923 - val_loss: 0.9923\n",
      "Epoch 50/90\n",
      "4/4 [==============================] - 3s 738ms/step - loss: 0.9923 - val_loss: 0.9923\n",
      "Epoch 51/90\n",
      "4/4 [==============================] - 3s 740ms/step - loss: 0.9923 - val_loss: 0.9923\n",
      "Epoch 52/90\n",
      "4/4 [==============================] - 3s 738ms/step - loss: 0.9923 - val_loss: 0.9923\n",
      "Epoch 53/90\n",
      "4/4 [==============================] - 3s 756ms/step - loss: 0.9923 - val_loss: 0.9923\n",
      "Epoch 54/90\n",
      "4/4 [==============================] - 3s 771ms/step - loss: 0.9923 - val_loss: 0.9923\n",
      "Epoch 55/90\n",
      "4/4 [==============================] - 3s 740ms/step - loss: 0.9923 - val_loss: 0.9923\n",
      "Epoch 56/90\n",
      "4/4 [==============================] - 3s 735ms/step - loss: 0.9923 - val_loss: 0.9923\n",
      "Epoch 57/90\n",
      "4/4 [==============================] - 3s 868ms/step - loss: 0.9923 - val_loss: 0.9923\n",
      "Epoch 58/90\n",
      "4/4 [==============================] - 4s 1s/step - loss: 0.9923 - val_loss: 0.9923\n",
      "Epoch 59/90\n",
      "4/4 [==============================] - 5s 1s/step - loss: 0.9923 - val_loss: 0.9923\n",
      "Epoch 60/90\n",
      "4/4 [==============================] - 5s 1s/step - loss: 0.9923 - val_loss: 0.9923\n",
      "Epoch 61/90\n",
      "4/4 [==============================] - 5s 1s/step - loss: 0.9923 - val_loss: 0.9923\n",
      "Epoch 62/90\n",
      "4/4 [==============================] - 5s 1s/step - loss: 0.9923 - val_loss: 0.9923\n",
      "Epoch 63/90\n",
      "4/4 [==============================] - 5s 1s/step - loss: 0.9923 - val_loss: 0.9923\n",
      "Epoch 64/90\n",
      "4/4 [==============================] - 5s 1s/step - loss: 0.9923 - val_loss: 0.9923\n",
      "Epoch 65/90\n",
      "4/4 [==============================] - 5s 1s/step - loss: 0.9923 - val_loss: 0.9923\n",
      "Epoch 66/90\n",
      "4/4 [==============================] - 5s 1s/step - loss: 0.9923 - val_loss: 0.9923\n",
      "Epoch 67/90\n",
      "4/4 [==============================] - 5s 1s/step - loss: 0.9923 - val_loss: 0.9923\n",
      "Epoch 68/90\n",
      "4/4 [==============================] - 5s 1s/step - loss: 0.9923 - val_loss: 0.9923\n",
      "Epoch 69/90\n",
      "4/4 [==============================] - 5s 1s/step - loss: 0.9923 - val_loss: 0.9923\n",
      "Epoch 70/90\n",
      "4/4 [==============================] - 5s 1s/step - loss: 0.9923 - val_loss: 0.9923\n",
      "Epoch 71/90\n",
      "4/4 [==============================] - 5s 1s/step - loss: 0.9923 - val_loss: 0.9923\n",
      "Epoch 72/90\n",
      "4/4 [==============================] - 5s 1s/step - loss: 0.9923 - val_loss: 0.9923\n",
      "Epoch 73/90\n",
      "4/4 [==============================] - 5s 1s/step - loss: 0.9923 - val_loss: 0.9923\n",
      "Epoch 74/90\n",
      "4/4 [==============================] - 5s 1s/step - loss: 0.9923 - val_loss: 0.9923\n",
      "Epoch 75/90\n",
      "4/4 [==============================] - 5s 1s/step - loss: 0.9923 - val_loss: 0.9923\n",
      "Epoch 76/90\n",
      "4/4 [==============================] - 5s 1s/step - loss: 0.9923 - val_loss: 0.9923\n",
      "Epoch 77/90\n",
      "4/4 [==============================] - 5s 1s/step - loss: 0.9923 - val_loss: 0.9923\n",
      "Epoch 78/90\n",
      "4/4 [==============================] - 5s 1s/step - loss: 0.9923 - val_loss: 0.9923\n",
      "Epoch 79/90\n",
      "4/4 [==============================] - 6s 1s/step - loss: 0.9923 - val_loss: 0.9923\n",
      "Epoch 80/90\n",
      "4/4 [==============================] - 5s 1s/step - loss: 0.9923 - val_loss: 0.9923\n",
      "Epoch 81/90\n",
      "4/4 [==============================] - 5s 1s/step - loss: 0.9923 - val_loss: 0.9923\n",
      "Epoch 82/90\n",
      "4/4 [==============================] - 5s 1s/step - loss: 0.9923 - val_loss: 0.9923\n",
      "Epoch 83/90\n",
      "4/4 [==============================] - 5s 1s/step - loss: 0.9923 - val_loss: 0.9923\n",
      "Epoch 84/90\n",
      "4/4 [==============================] - 5s 1s/step - loss: 0.9923 - val_loss: 0.9923\n",
      "Epoch 85/90\n",
      "4/4 [==============================] - 5s 1s/step - loss: 0.9923 - val_loss: 0.9923\n",
      "Epoch 86/90\n",
      "4/4 [==============================] - 5s 1s/step - loss: 0.9923 - val_loss: 0.9923\n",
      "Epoch 87/90\n",
      "4/4 [==============================] - 5s 1s/step - loss: 0.9923 - val_loss: 0.9923\n",
      "Epoch 88/90\n",
      "4/4 [==============================] - 5s 1s/step - loss: 0.9923 - val_loss: 0.9923\n",
      "Epoch 89/90\n",
      "4/4 [==============================] - 5s 1s/step - loss: 0.9923 - val_loss: 0.9923\n",
      "Epoch 90/90\n",
      "4/4 [==============================] - 5s 1s/step - loss: 0.9923 - val_loss: 0.9923\n"
     ]
    }
   ],
   "source": [
    "# Train the model on the training set\n",
    "history = model.fit(X_train, X_train, epochs=90, validation_data=(X_test, X_test), batch_size=28)"
   ]
  },
  {
   "cell_type": "code",
   "execution_count": 11,
   "metadata": {
    "colab": {
     "base_uri": "https://localhost:8080/"
    },
    "id": "JGONyIFhkn-R",
    "outputId": "9be74f1f-217b-444e-8fbf-baa1728d661a"
   },
   "outputs": [
    {
     "name": "stdout",
     "output_type": "stream",
     "text": [
      "1/1 [==============================] - 3s 3s/step\n",
      "1/1 [==============================] - 0s 421ms/step - loss: 0.9923\n",
      "Test loss: 0.9922680258750916\n",
      "Accuracy :  1.0\n",
      "F1 score 1.0\n"
     ]
    }
   ],
   "source": [
    "# Evaluate the performance of the model on the testing set\n",
    "from sklearn.metrics import accuracy_score\n",
    "y_pred = np.argmax(model.predict(X_test), axis=1)\n",
    "loss = model.evaluate(X_test, X_test)\n",
    "print(\"Test loss:\", loss)\n",
    "\n",
    "accuracy = accuracy_score(y_test, y_pred)\n",
    "print(\"Accuracy : \", accuracy)\n",
    "\n",
    "f1 = f1_score(y_test, y_pred, average='macro')\n",
    "print(\"F1 score\", f1)"
   ]
  },
  {
   "cell_type": "code",
   "execution_count": 12,
   "metadata": {
    "colab": {
     "base_uri": "https://localhost:8080/",
     "height": 472
    },
    "id": "7tfNi46LkoC2",
    "outputId": "40eed5f9-4906-4bbe-86ae-1818774c30ab"
   },
   "outputs": [
    {
     "data": {
      "image/png": "[encoded data removed]",
      "text/plain": [
       "<Figure size 432x288 with 1 Axes>"
      ]
     },
     "metadata": {
      "needs_background": "light"
     },
     "output_type": "display_data"
    }
   ],
   "source": [
    "import matplotlib.pyplot as plt\n",
    "plt.plot(y_test,'b',label='Original')\n",
    "plt.plot(y_pred,'r',label='Predicted')\n",
    "plt.title('Predicted and Original Values')\n",
    "plt.xlabel('Original')\n",
    "plt.ylabel('Predicted')\n",
    "plt.legend()\n",
    "plt.show()"
   ]
  },
  {
   "cell_type": "code",
   "execution_count": 13,
   "metadata": {
    "colab": {
     "base_uri": "https://localhost:8080/",
     "height": 472
    },
    "id": "riunFna9WCgC",
    "outputId": "7ceb6e1f-d168-4c70-bfeb-3e2d702e763f"
   },
   "outputs": [
    {
     "data": {
      "image/png": "[encoded data removed]",
      "text/plain": [
       "<Figure size 432x288 with 1 Axes>"
      ]
     },
     "metadata": {
      "needs_background": "light"
     },
     "output_type": "display_data"
    }
   ],
   "source": [
    "# Plot the training loss as a function of the number of epochs\n",
    "plt.plot(history.history['loss'])\n",
    "plt.plot(history.history['val_loss'])\n",
    "plt.title('Model loss')\n",
    "plt.ylabel('Loss')\n",
    "plt.xlabel('Epoch')\n",
    "plt.legend(['Train', 'Validation'], loc='upper right')\n",
    "plt.show()"
   ]
  },
  {
   "cell_type": "code",
   "execution_count": 14,
   "metadata": {
    "colab": {
     "base_uri": "https://localhost:8080/"
    },
    "id": "pAQn9izLWG2y",
    "outputId": "19aa941e-1d9c-445b-f2c7-d3d588618321"
   },
   "outputs": [
    {
     "name": "stdout",
     "output_type": "stream",
     "text": [
      "F1 score 1.0\n",
      "Precision score 1.0\n",
      "Recall score 1.0\n",
      "Confusion Matrix: \n",
      " [[27]]\n"
     ]
    }
   ],
   "source": [
    "f1 = f1_score(y_test, y_pred, average='macro')\n",
    "print(\"F1 score\", f1)\n",
    "precision = precision_score(y_test, y_pred, average='macro')\n",
    "print(\"Precision score\", precision)\n",
    "recall = recall_score(y_test, y_pred, average='macro')\n",
    "print(\"Recall score\", recall)\n",
    "\n",
    "cm = confusion_matrix(y_test, y_pred)\n",
    "print(\"Confusion Matrix: \\n\", cm)"
   ]
  }
 ],
 "metadata": {
  "colab": {
   "provenance": []
  },
  "kernelspec": {
   "display_name": "Python 3 (ipykernel)",
   "language": "python",
   "name": "python3"
  },
  "language_info": {
   "codemirror_mode": {
    "name": "ipython",
    "version": 3
   },
   "file_extension": ".py",
   "mimetype": "text/x-python",
   "name": "python",
   "nbconvert_exporter": "python",
   "pygments_lexer": "ipython3",
   "version": "3.10.10"
  }
 },
 "nbformat": 4,
 "nbformat_minor": 1
}
